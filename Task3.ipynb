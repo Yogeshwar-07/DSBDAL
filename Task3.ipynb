{
 "cells": [
  {
   "cell_type": "code",
   "execution_count": 1,
   "id": "ded18d2c-ff6b-4844-aba5-68ad277e6396",
   "metadata": {},
   "outputs": [
    {
     "name": "stdout",
     "output_type": "stream",
     "text": [
      "           Math  Science  English  History\n",
      "Student 1    85       80       75       70\n",
      "Student 2    78       82       85       75\n",
      "Student 3    92       89       78       80\n",
      "Student 4    60       65       55       50\n",
      "Student 5    74       70       72       68\n",
      "Student 6    88       90       88       82\n"
     ]
    }
   ],
   "source": [
    "# Pandas operation: \n",
    "#   A school maintains student exam scores for multiple subjects. \n",
    "#   The data is stored in a Pandas DataFrame where each row represents a student, and each column represents a subject.\n",
    "\n",
    "import pandas as pd\n",
    "\n",
    "data = { \n",
    "    \"Math\": [85, 78, 92, 60, 74, 88],\n",
    "    \"Science\": [80, 82, 89, 65, 70, 90],\n",
    "    \"English\": [75, 85, 78, 55, 72, 88], \n",
    "    \"History\": [70, 75, 80, 50, 68, 82] \n",
    "}\n",
    "\n",
    "students = [\"Student 1\", \"Student 2\", \"Student 3\", \"Student 4\", \"Student 5\", \"Student 6\"]\n",
    "\n",
    "exam_scores = pd.DataFrame(data, index=students)\n",
    "\n",
    "print(exam_scores)"
   ]
  },
  {
   "cell_type": "code",
   "execution_count": 2,
   "id": "344e1892-f5ac-495e-95e1-816c14c94272",
   "metadata": {},
   "outputs": [
    {
     "data": {
      "text/html": [
       "<div>\n",
       "<style scoped>\n",
       "    .dataframe tbody tr th:only-of-type {\n",
       "        vertical-align: middle;\n",
       "    }\n",
       "\n",
       "    .dataframe tbody tr th {\n",
       "        vertical-align: top;\n",
       "    }\n",
       "\n",
       "    .dataframe thead th {\n",
       "        text-align: right;\n",
       "    }\n",
       "</style>\n",
       "<table border=\"1\" class=\"dataframe\">\n",
       "  <thead>\n",
       "    <tr style=\"text-align: right;\">\n",
       "      <th></th>\n",
       "      <th>Math</th>\n",
       "      <th>Science</th>\n",
       "      <th>English</th>\n",
       "      <th>History</th>\n",
       "    </tr>\n",
       "  </thead>\n",
       "  <tbody>\n",
       "    <tr>\n",
       "      <th>Student 1</th>\n",
       "      <td>85</td>\n",
       "      <td>80</td>\n",
       "      <td>75</td>\n",
       "      <td>70</td>\n",
       "    </tr>\n",
       "    <tr>\n",
       "      <th>Student 2</th>\n",
       "      <td>78</td>\n",
       "      <td>82</td>\n",
       "      <td>85</td>\n",
       "      <td>75</td>\n",
       "    </tr>\n",
       "    <tr>\n",
       "      <th>Student 3</th>\n",
       "      <td>92</td>\n",
       "      <td>89</td>\n",
       "      <td>78</td>\n",
       "      <td>80</td>\n",
       "    </tr>\n",
       "  </tbody>\n",
       "</table>\n",
       "</div>"
      ],
      "text/plain": [
       "           Math  Science  English  History\n",
       "Student 1    85       80       75       70\n",
       "Student 2    78       82       85       75\n",
       "Student 3    92       89       78       80"
      ]
     },
     "execution_count": 2,
     "metadata": {},
     "output_type": "execute_result"
    }
   ],
   "source": [
    "# 1) Display the first three rows of the exam_scores DataFrame.\n",
    "\n",
    "exam_scores.head(3)"
   ]
  },
  {
   "cell_type": "code",
   "execution_count": 3,
   "id": "1c0a6059-4736-4792-9a56-b7f8895f5a50",
   "metadata": {},
   "outputs": [
    {
     "name": "stdout",
     "output_type": "stream",
     "text": [
      "Number of students: 6, Number of subjects: 4\n"
     ]
    }
   ],
   "source": [
    "# 2) Get the total number of students and subjects recorded in the DataFrame.\n",
    "\n",
    "num_students, num_subjects = exam_scores.shape\n",
    "print(f\"Number of students: {num_students}, Number of subjects: {num_subjects}\")"
   ]
  },
  {
   "cell_type": "code",
   "execution_count": 4,
   "id": "5e719ec4-e504-4260-a0e4-78127e909c28",
   "metadata": {},
   "outputs": [
    {
     "name": "stdout",
     "output_type": "stream",
     "text": [
      "Subjects: ['Math', 'Science', 'English', 'History']\n",
      "Students: ['Student 1', 'Student 2', 'Student 3', 'Student 4', 'Student 5', 'Student 6']\n"
     ]
    }
   ],
   "source": [
    "# 3) List all subject names and student names.\n",
    "\n",
    "subjects = exam_scores.columns.tolist()\n",
    "students = exam_scores.index.tolist()\n",
    "print(\"Subjects:\", subjects)\n",
    "print(\"Students:\", students)"
   ]
  },
  {
   "cell_type": "code",
   "execution_count": 5,
   "id": "8da3cd42-72a3-4970-b0df-03b0fab0b2b0",
   "metadata": {},
   "outputs": [
    {
     "data": {
      "text/plain": [
       "Math       int64\n",
       "Science    int64\n",
       "English    int64\n",
       "History    int64\n",
       "dtype: object"
      ]
     },
     "execution_count": 5,
     "metadata": {},
     "output_type": "execute_result"
    }
   ],
   "source": [
    "# 4) Display the data type of each column in the DataFrame.\n",
    "\n",
    "exam_scores.dtypes"
   ]
  },
  {
   "cell_type": "code",
   "execution_count": 6,
   "id": "073eb354-e1c5-4f86-b477-cc59f94bdf81",
   "metadata": {},
   "outputs": [
    {
     "data": {
      "text/plain": [
       "Math       0\n",
       "Science    0\n",
       "English    0\n",
       "History    0\n",
       "dtype: int64"
      ]
     },
     "execution_count": 6,
     "metadata": {},
     "output_type": "execute_result"
    }
   ],
   "source": [
    "# 5) Check if there are any missing values in the DataFrame.\n",
    "\n",
    "exam_scores.isnull().sum()"
   ]
  },
  {
   "cell_type": "code",
   "execution_count": 7,
   "id": "e27f902f-947f-4f8d-a35f-1b26529bc4bd",
   "metadata": {},
   "outputs": [
    {
     "data": {
      "text/plain": [
       "Math       92\n",
       "Science    89\n",
       "English    78\n",
       "History    80\n",
       "Name: Student 3, dtype: int64"
      ]
     },
     "execution_count": 7,
     "metadata": {},
     "output_type": "execute_result"
    }
   ],
   "source": [
    "# 6) Retrieve the scores of \"Student 3\" in all subjects.\n",
    "\n",
    "exam_scores.loc[\"Student 3\"]"
   ]
  },
  {
   "cell_type": "code",
   "execution_count": 8,
   "id": "54db8470-bb98-4722-9832-2bc60ba15195",
   "metadata": {},
   "outputs": [
    {
     "data": {
      "text/plain": [
       "Student 1    85\n",
       "Student 2    78\n",
       "Student 3    92\n",
       "Student 4    60\n",
       "Student 5    74\n",
       "Student 6    88\n",
       "Name: Math, dtype: int64"
      ]
     },
     "execution_count": 8,
     "metadata": {},
     "output_type": "execute_result"
    }
   ],
   "source": [
    "# 7) Extract the scores of all students in \"Math\".\n",
    "\n",
    "exam_scores[\"Math\"]"
   ]
  },
  {
   "cell_type": "code",
   "execution_count": 9,
   "id": "3157ec47-a640-4b62-92e1-6da0672de8a8",
   "metadata": {},
   "outputs": [
    {
     "data": {
      "text/html": [
       "<div>\n",
       "<style scoped>\n",
       "    .dataframe tbody tr th:only-of-type {\n",
       "        vertical-align: middle;\n",
       "    }\n",
       "\n",
       "    .dataframe tbody tr th {\n",
       "        vertical-align: top;\n",
       "    }\n",
       "\n",
       "    .dataframe thead th {\n",
       "        text-align: right;\n",
       "    }\n",
       "</style>\n",
       "<table border=\"1\" class=\"dataframe\">\n",
       "  <thead>\n",
       "    <tr style=\"text-align: right;\">\n",
       "      <th></th>\n",
       "      <th>Science</th>\n",
       "      <th>English</th>\n",
       "    </tr>\n",
       "  </thead>\n",
       "  <tbody>\n",
       "    <tr>\n",
       "      <th>Student 1</th>\n",
       "      <td>80</td>\n",
       "      <td>75</td>\n",
       "    </tr>\n",
       "    <tr>\n",
       "      <th>Student 4</th>\n",
       "      <td>65</td>\n",
       "      <td>55</td>\n",
       "    </tr>\n",
       "  </tbody>\n",
       "</table>\n",
       "</div>"
      ],
      "text/plain": [
       "           Science  English\n",
       "Student 1       80       75\n",
       "Student 4       65       55"
      ]
     },
     "execution_count": 9,
     "metadata": {},
     "output_type": "execute_result"
    }
   ],
   "source": [
    "# 8) Retrieve the scores of \"Student 1\" and \"Student 4\" in \"Science\" and \"English\".\n",
    "\n",
    "exam_scores.loc[[\"Student 1\", \"Student 4\"], [\"Science\", \"English\"]]"
   ]
  },
  {
   "cell_type": "code",
   "execution_count": 10,
   "id": "812c49df-ac63-46a4-a33a-a71f74427515",
   "metadata": {},
   "outputs": [
    {
     "data": {
      "text/html": [
       "<div>\n",
       "<style scoped>\n",
       "    .dataframe tbody tr th:only-of-type {\n",
       "        vertical-align: middle;\n",
       "    }\n",
       "\n",
       "    .dataframe tbody tr th {\n",
       "        vertical-align: top;\n",
       "    }\n",
       "\n",
       "    .dataframe thead th {\n",
       "        text-align: right;\n",
       "    }\n",
       "</style>\n",
       "<table border=\"1\" class=\"dataframe\">\n",
       "  <thead>\n",
       "    <tr style=\"text-align: right;\">\n",
       "      <th></th>\n",
       "      <th>Math</th>\n",
       "      <th>Science</th>\n",
       "      <th>English</th>\n",
       "    </tr>\n",
       "  </thead>\n",
       "  <tbody>\n",
       "    <tr>\n",
       "      <th>Student 1</th>\n",
       "      <td>85</td>\n",
       "      <td>80</td>\n",
       "      <td>75</td>\n",
       "    </tr>\n",
       "    <tr>\n",
       "      <th>Student 2</th>\n",
       "      <td>78</td>\n",
       "      <td>82</td>\n",
       "      <td>85</td>\n",
       "    </tr>\n",
       "    <tr>\n",
       "      <th>Student 3</th>\n",
       "      <td>92</td>\n",
       "      <td>89</td>\n",
       "      <td>78</td>\n",
       "    </tr>\n",
       "    <tr>\n",
       "      <th>Student 4</th>\n",
       "      <td>60</td>\n",
       "      <td>65</td>\n",
       "      <td>55</td>\n",
       "    </tr>\n",
       "  </tbody>\n",
       "</table>\n",
       "</div>"
      ],
      "text/plain": [
       "           Math  Science  English\n",
       "Student 1    85       80       75\n",
       "Student 2    78       82       85\n",
       "Student 3    92       89       78\n",
       "Student 4    60       65       55"
      ]
     },
     "execution_count": 10,
     "metadata": {},
     "output_type": "execute_result"
    }
   ],
   "source": [
    "# 9) Slice the DataFrame to get the first 4 students and the first 3 subjects.\n",
    "\n",
    "exam_scores.iloc[:4, :3]"
   ]
  },
  {
   "cell_type": "code",
   "execution_count": 14,
   "id": "41d0403c-9a9b-427f-82b8-0b1e2136acad",
   "metadata": {},
   "outputs": [
    {
     "name": "stdout",
     "output_type": "stream",
     "text": [
      "68\n"
     ]
    }
   ],
   "source": [
    "# 10) Retrieve the score of \"Student 5\" in \"History\" using .loc or .iloc.\n",
    "\n",
    "print(exam_scores.loc[\"Student 5\", \"History\"])"
   ]
  },
  {
   "cell_type": "code",
   "execution_count": 15,
   "id": "35e58c2f-ed20-4ec8-b6f5-c76877bc097d",
   "metadata": {},
   "outputs": [
    {
     "name": "stdout",
     "output_type": "stream",
     "text": [
      "85\n"
     ]
    }
   ],
   "source": [
    "# 11) Update the score of \"Student 2\" in \"Math\" to 85.\n",
    "\n",
    "exam_scores.loc[\"Student 2\", \"Math\"] = 85\n",
    "print(exam_scores.loc[\"Student 2\", \"Math\"])"
   ]
  },
  {
   "cell_type": "code",
   "execution_count": 16,
   "id": "b0c22e55-860d-4239-9e10-26af068d8320",
   "metadata": {},
   "outputs": [
    {
     "name": "stdout",
     "output_type": "stream",
     "text": [
      "           Math  Science  English  History\n",
      "Student 1    85       80       75       70\n",
      "Student 2    85       82       85       75\n",
      "Student 3    92       89       78       80\n",
      "Student 4    60       65       55       50\n",
      "Student 5    74       70       72       68\n",
      "Student 6    88       90       88       82\n",
      "Student 7    90       85       88       80\n"
     ]
    }
   ],
   "source": [
    "# 12) Add a new student, \"Student 7\", with scores [90, 85, 88, 80] for all subjects.\n",
    "\n",
    "new_scores = [90, 85, 88, 80]\n",
    "exam_scores.loc[\"Student 7\"] = new_scores\n",
    "print(exam_scores)"
   ]
  },
  {
   "cell_type": "code",
   "execution_count": 17,
   "id": "98cfce22-6bc9-4068-8722-f61e992db02c",
   "metadata": {},
   "outputs": [
    {
     "name": "stdout",
     "output_type": "stream",
     "text": [
      "           Math  Science  English  History\n",
      "Student 1    90       85       80       75\n",
      "Student 2    90       87       90       80\n",
      "Student 3    97       94       83       85\n",
      "Student 4    65       70       60       55\n",
      "Student 5    79       75       77       73\n",
      "Student 6    93       95       93       87\n",
      "Student 7    95       90       93       85\n"
     ]
    }
   ],
   "source": [
    "# 13) Add 5 bonus marks to all student's scores.\n",
    "\n",
    "exam_scores = exam_scores + 5\n",
    "print(exam_scores)"
   ]
  },
  {
   "cell_type": "code",
   "execution_count": 19,
   "id": "c63c88aa-3b6b-4e3f-bbae-06c616362ec9",
   "metadata": {},
   "outputs": [
    {
     "name": "stdout",
     "output_type": "stream",
     "text": [
      "Math       62\n",
      "Science    67\n",
      "English    57\n",
      "History    52\n",
      "Name: Student 4, dtype: int64\n"
     ]
    }
   ],
   "source": [
    "# 14) Deduct 3 marks from the scores of \"Student 4\" in all subjects.\n",
    "\n",
    "exam_scores.loc[\"Student 4\"] = exam_scores.loc[\"Student 4\"] - 3\n",
    "print(exam_scores.loc[\"Student 4\"])"
   ]
  },
  {
   "cell_type": "code",
   "execution_count": 21,
   "id": "c6c870cf-4430-4151-89cd-d51f8474399d",
   "metadata": {},
   "outputs": [
    {
     "data": {
      "text/plain": [
       "Student 1    82.50\n",
       "Student 2    86.75\n",
       "Student 3    89.75\n",
       "Student 4    59.50\n",
       "Student 5    76.00\n",
       "Student 6    92.00\n",
       "Student 7    90.75\n",
       "dtype: float64"
      ]
     },
     "execution_count": 21,
     "metadata": {},
     "output_type": "execute_result"
    }
   ],
   "source": [
    "# 15) Calculate the percentage of marks obtained by each student, assuming each subject has a maximum of 100 marks.\n",
    "\n",
    "total_marks = exam_scores.sum(axis=1)\n",
    "max_marks = 100 * exam_scores.shape[1]  # 100 marks per subject\n",
    "percentage = (total_marks / max_marks) * 100\n",
    "percentage"
   ]
  },
  {
   "cell_type": "code",
   "execution_count": 22,
   "id": "43d82d63-fff8-4dd6-89c6-38f1c9a04060",
   "metadata": {},
   "outputs": [
    {
     "name": "stdout",
     "output_type": "stream",
     "text": [
      "Student 1    330\n",
      "Student 2    347\n",
      "Student 3    359\n",
      "Student 4    238\n",
      "Student 5    304\n",
      "Student 6    368\n",
      "Student 7    363\n",
      "dtype: int64\n"
     ]
    }
   ],
   "source": [
    "# 16) Calculate the total marks obtained by each student.\n",
    "\n",
    "total_marks = exam_scores.sum(axis=1)\n",
    "print(total_marks)"
   ]
  },
  {
   "cell_type": "code",
   "execution_count": 23,
   "id": "e896f04d-445a-4eff-9387-8f0387d22ca8",
   "metadata": {},
   "outputs": [
    {
     "name": "stdout",
     "output_type": "stream",
     "text": [
      "Math       606\n",
      "Science    593\n",
      "English    573\n",
      "History    537\n",
      "dtype: int64\n"
     ]
    }
   ],
   "source": [
    "# 17) Determine the total marks scored in each subject.\n",
    "\n",
    "subject_totals = exam_scores.sum(axis=0)\n",
    "print(subject_totals)"
   ]
  },
  {
   "cell_type": "code",
   "execution_count": 24,
   "id": "485f98aa-adcf-447a-a7fc-a20d47c4fb4a",
   "metadata": {},
   "outputs": [
    {
     "name": "stdout",
     "output_type": "stream",
     "text": [
      "Student with highest total marks: Student 6, Total Marks: 368\n"
     ]
    }
   ],
   "source": [
    "# 18) Identify the student with the highest total marks.\n",
    "\n",
    "highest_total_student = total_marks.idxmax()\n",
    "highest_total_marks = total_marks.max()\n",
    "print(f\"Student with highest total marks: {highest_total_student}, Total Marks: {highest_total_marks}\")"
   ]
  },
  {
   "cell_type": "code",
   "execution_count": 25,
   "id": "4a094408-e0ec-4c7f-86d2-d481f9666484",
   "metadata": {},
   "outputs": [
    {
     "name": "stdout",
     "output_type": "stream",
     "text": [
      "Subject with lowest total marks: History, Total Marks: 537\n"
     ]
    }
   ],
   "source": [
    "# 19) Find the subject with the lowest total marks.\n",
    "\n",
    "lowest_total_subject = subject_totals.idxmin()\n",
    "lowest_total_marks = subject_totals.min()\n",
    "print(f\"Subject with lowest total marks: {lowest_total_subject}, Total Marks: {lowest_total_marks}\")"
   ]
  },
  {
   "cell_type": "code",
   "execution_count": 26,
   "id": "a91b7cca-ab2f-4f8d-b677-794422c20dd7",
   "metadata": {},
   "outputs": [
    {
     "name": "stdout",
     "output_type": "stream",
     "text": [
      "Student 1    82.50\n",
      "Student 2    86.75\n",
      "Student 3    89.75\n",
      "Student 4    59.50\n",
      "Student 5    76.00\n",
      "Student 6    92.00\n",
      "Student 7    90.75\n",
      "dtype: float64\n"
     ]
    }
   ],
   "source": [
    "# 20) Compute the average marks scored by each student across all subjectst\n",
    "\n",
    "average_marks = exam_scores.mean(axis=1)\n",
    "print(average_marks)"
   ]
  },
  {
   "cell_type": "code",
   "execution_count": null,
   "id": "216998a6-71df-4e07-b476-73d76cd7a869",
   "metadata": {},
   "outputs": [],
   "source": []
  }
 ],
 "metadata": {
  "kernelspec": {
   "display_name": "Python 3 (ipykernel)",
   "language": "python",
   "name": "python3"
  },
  "language_info": {
   "codemirror_mode": {
    "name": "ipython",
    "version": 3
   },
   "file_extension": ".py",
   "mimetype": "text/x-python",
   "name": "python",
   "nbconvert_exporter": "python",
   "pygments_lexer": "ipython3",
   "version": "3.13.1"
  }
 },
 "nbformat": 4,
 "nbformat_minor": 5
}
