{
 "cells": [
  {
   "cell_type": "code",
   "execution_count": 4,
   "id": "1238f8ed-f82d-4633-938a-cc7b48178b0d",
   "metadata": {},
   "outputs": [
    {
     "name": "stdout",
     "output_type": "stream",
     "text": [
      "[[85 90 78 92 88]\n",
      " [72 75 80 68 74]\n",
      " [95 88 92 96 90]\n",
      " [60 65 70 58 62]\n",
      " [88 84 86 89 87]]\n"
     ]
    }
   ],
   "source": [
    "# A school maintains a record of students' exam scores for 5 subjects in a 2D NumPy array. \n",
    "# Each row represents a student, and each column represents a subject:\n",
    "\n",
    "import numpy as np\n",
    "\n",
    "# Student scores: rows = students, columns = subjects\n",
    "scores = np.array([\n",
    "    [85, 90, 78, 92, 88],   # Std 1\n",
    "    [72, 75, 80, 68, 74],   # Std 2\n",
    "    [95, 88, 92, 96, 90],   # Std 3\n",
    "    [60, 65, 70, 58, 62],   # Std 4\n",
    "    [88, 84, 86, 89, 87]    # Std 5\n",
    "])\n",
    "\n",
    "print(scores)"
   ]
  },
  {
   "cell_type": "code",
   "execution_count": 5,
   "id": "127ec5d1-ef2b-4f74-a4cc-f70cc2a32b2e",
   "metadata": {},
   "outputs": [
    {
     "name": "stdout",
     "output_type": "stream",
     "text": [
      "[95 88 92 96 90]\n"
     ]
    }
   ],
   "source": [
    "# 1) Retrieve the scores of Student 3 for all subjects.\n",
    "\n",
    "Student_3_scores = scores[2]\n",
    "print(Student_3_scores)"
   ]
  },
  {
   "cell_type": "code",
   "execution_count": 6,
   "id": "4088ac1a-365e-49f5-86c2-f821a76a5f35",
   "metadata": {},
   "outputs": [
    {
     "name": "stdout",
     "output_type": "stream",
     "text": [
      "[90 75 88 65 84]\n"
     ]
    }
   ],
   "source": [
    "# 2) Retrieve the scores for Subject 2 (column 2) across all students.\n",
    "\n",
    "Subject_2_scores = scores[:, 1]\n",
    "print(Subject_2_scores)"
   ]
  },
  {
   "cell_type": "code",
   "execution_count": 17,
   "id": "aff16beb-6256-45f5-847a-95475aacd465",
   "metadata": {},
   "outputs": [
    {
     "name": "stdout",
     "output_type": "stream",
     "text": [
      "First 3 Students for the First 2 Subjects:\n",
      "[[85 90]\n",
      " [72 75]\n",
      " [95 88]]\n",
      "\n",
      "Last 2 Students for the Last 3 Subjects:\n",
      "[[70 58 62]\n",
      " [86 89 87]]\n"
     ]
    }
   ],
   "source": [
    "#  3) Extract the scores of the first 3 students for the first 2 subjects.\n",
    "#     Extract the scores of the last 2 students for the last 3 subjects.\n",
    "\n",
    "First_3_Studs_for_First_2_subjects = scores[:3, :2]\n",
    "print(\"First 3 Students for the First 2 Subjects:\")\n",
    "print(First_3_Studs_for_First_2_subjects)\n",
    "\n",
    "Last_2_Studs_for_Last_3_subjects = scores[-2:, -3:]\n",
    "print(\"\\nLast 2 Students for the Last 3 Subjects:\")\n",
    "print(Last_2_Studs_for_Last_3_subjects)"
   ]
  },
  {
   "cell_type": "code",
   "execution_count": 18,
   "id": "a090afbf-8ea6-4571-bc5e-7c3339879260",
   "metadata": {},
   "outputs": [
    {
     "name": "stdout",
     "output_type": "stream",
     "text": [
      "[[ 90  95  83  97  93]\n",
      " [ 77  80  85  73  79]\n",
      " [100  93  97 101  95]\n",
      " [ 65  70  75  63  67]\n",
      " [ 93  89  91  94  92]]\n"
     ]
    }
   ],
   "source": [
    "# 4) Add 5 bonus marks to all scores. \n",
    "\n",
    "Scores_with_bonus = scores + 5\n",
    "print(Scores_with_bonus)"
   ]
  },
  {
   "cell_type": "code",
   "execution_count": 19,
   "id": "026f733d-0cc8-4e3f-a716-848471264312",
   "metadata": {},
   "outputs": [
    {
     "name": "stdout",
     "output_type": "stream",
     "text": [
      "[[85 90 78 82 88]\n",
      " [72 75 80 58 74]\n",
      " [95 88 92 86 90]\n",
      " [60 65 70 48 62]\n",
      " [88 84 86 79 87]]\n"
     ]
    }
   ],
   "source": [
    "# 5) Subtract 10 marks from scores of Subject 4 for all students.\n",
    "\n",
    "scores[:, 3] -= 10 \n",
    "print(scores)"
   ]
  },
  {
   "cell_type": "code",
   "execution_count": 20,
   "id": "d43d085b-420e-46dc-b967-192f00d3239f",
   "metadata": {},
   "outputs": [
    {
     "name": "stdout",
     "output_type": "stream",
     "text": [
      "[84.6 71.8 90.2 61.  84.8]\n"
     ]
    }
   ],
   "source": [
    "# 6) Calculate the percentage scores of each student assuming each subject is out of 100. \n",
    "\n",
    "percentages = (scores.sum(axis=1) / 500) * 100 \n",
    "print(percentages)"
   ]
  },
  {
   "cell_type": "code",
   "execution_count": 21,
   "id": "36daf849-b8bf-45cb-8c5a-d87e01d855c0",
   "metadata": {},
   "outputs": [
    {
     "name": "stdout",
     "output_type": "stream",
     "text": [
      "[84.6 71.8 90.2 61.  84.8]\n"
     ]
    }
   ],
   "source": [
    "# 7) Calculate the average score for each student across all subjects\n",
    "\n",
    "average_scores = scores.mean(axis=1)  \n",
    "print(average_scores)"
   ]
  },
  {
   "cell_type": "code",
   "execution_count": 22,
   "id": "cb1503a7-fdf6-4386-b3cc-9e43d9cc8b89",
   "metadata": {},
   "outputs": [
    {
     "name": "stdout",
     "output_type": "stream",
     "text": [
      "[423 359 451 305 424]\n"
     ]
    }
   ],
   "source": [
    "# 8) Find the total marks scored by each student. \n",
    "\n",
    "total_marks = scores.sum(axis=1)\n",
    "print(total_marks)"
   ]
  },
  {
   "cell_type": "code",
   "execution_count": 23,
   "id": "ee5b7615-d58e-4edb-bd05-9a6f363cb85b",
   "metadata": {},
   "outputs": [
    {
     "name": "stdout",
     "output_type": "stream",
     "text": [
      "95\n"
     ]
    }
   ],
   "source": [
    "# 9) Identify the highest score in the entire array.\n",
    "\n",
    "highest_score = scores.max()\n",
    "print(highest_score)"
   ]
  },
  {
   "cell_type": "code",
   "execution_count": 24,
   "id": "a2609731-88cd-4ee5-8c8d-1478f43f155e",
   "metadata": {},
   "outputs": [
    {
     "name": "stdout",
     "output_type": "stream",
     "text": [
      "[80.  80.4 81.2 70.6 80.2]\n"
     ]
    }
   ],
   "source": [
    "# 10) Determine the average score for each subject. \n",
    "\n",
    "average_subject_scores = scores.mean(axis=0)\n",
    "print(average_subject_scores)"
   ]
  },
  {
   "cell_type": "code",
   "execution_count": 25,
   "id": "18630483-0e29-4fb7-967c-50be2811d18e",
   "metadata": {},
   "outputs": [
    {
     "name": "stdout",
     "output_type": "stream",
     "text": [
      "Student 4 has the lowest average score.\n"
     ]
    }
   ],
   "source": [
    "# 11) Find the student with the lowest average score.\n",
    "\n",
    "lowest_avg_student_index = np.argmin(average_scores)\n",
    "print(f\"Student {lowest_avg_student_index + 1} has the lowest average score.\")"
   ]
  },
  {
   "cell_type": "code",
   "execution_count": null,
   "id": "bfe4c019-35dd-4b77-ba27-d098a6916fef",
   "metadata": {},
   "outputs": [],
   "source": []
  }
 ],
 "metadata": {
  "kernelspec": {
   "display_name": "Python 3 (ipykernel)",
   "language": "python",
   "name": "python3"
  },
  "language_info": {
   "codemirror_mode": {
    "name": "ipython",
    "version": 3
   },
   "file_extension": ".py",
   "mimetype": "text/x-python",
   "name": "python",
   "nbconvert_exporter": "python",
   "pygments_lexer": "ipython3",
   "version": "3.13.1"
  }
 },
 "nbformat": 4,
 "nbformat_minor": 5
}
