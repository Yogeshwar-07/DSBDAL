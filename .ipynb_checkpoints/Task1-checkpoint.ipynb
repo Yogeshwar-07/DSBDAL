{
 "cells": [
  {
   "cell_type": "code",
   "execution_count": 1,
   "id": "682181c5-8492-4145-8403-7a613b17746c",
   "metadata": {},
   "outputs": [
    {
     "name": "stdout",
     "output_type": "stream",
     "text": [
      "RollNo is 101      Name of Student is Rajesh\n"
     ]
    }
   ],
   "source": [
    "RollNo = 101\n",
    "Name = 'Rajesh'\n",
    "print(f\"RollNo is {RollNo}      Name of Student is {Name}\")"
   ]
  },
  {
   "cell_type": "code",
   "execution_count": 1,
   "id": "af5ac13d-f5fd-4f40-99c8-b135886e02d9",
   "metadata": {},
   "outputs": [
    {
     "name": "stdout",
     "output_type": "stream",
     "text": [
      "['a', 'x', 'y', 'z', ['d', 'e', 'h', 'f'], 'p', 'q', 'r', 'g']\n"
     ]
    }
   ],
   "source": [
    "x = [ 'a', 'x', 'y', 'z', [ 'd', 'e', 'f'], 'p', 'q', 'r']\n",
    "x.append('g')\n",
    "x[4].insert(2,'h')\n",
    "print(x)"
   ]
  },
  {
   "cell_type": "code",
   "execution_count": 2,
   "id": "228fc102-39ea-494b-8389-4c1cc65bef5b",
   "metadata": {},
   "outputs": [
    {
     "name": "stdout",
     "output_type": "stream",
     "text": [
      "{'RollNo': 101, 'Name': 'Ajay', 'Fees': 4000}\n"
     ]
    }
   ],
   "source": [
    "Student = {'RollNo':101, 'Name':'Ajay'}\n",
    "Student['Fees'] = 4000\n",
    "print(Student)"
   ]
  },
  {
   "cell_type": "code",
   "execution_count": 4,
   "id": "f4a707d6-fdef-4a3c-8a38-0c1a00ce843a",
   "metadata": {},
   "outputs": [
    {
     "name": "stdout",
     "output_type": "stream",
     "text": [
      "{2, 3, 4, 5, 8}\n"
     ]
    }
   ],
   "source": [
    "a = {2, 3, 4,  5}\n",
    "a.add(2)\n",
    "a.add(8)\n",
    "print(a) #Sets do not allow duplicate elements i.e. while adding 2."
   ]
  },
  {
   "cell_type": "code",
   "execution_count": 5,
   "id": "5df4d210-146a-416f-a3fe-6d238184b6e5",
   "metadata": {},
   "outputs": [
    {
     "ename": "AttributeError",
     "evalue": "'tuple' object has no attribute 'append'",
     "output_type": "error",
     "traceback": [
      "\u001b[0;31m---------------------------------------------------------------------------\u001b[0m",
      "\u001b[0;31mAttributeError\u001b[0m                            Traceback (most recent call last)",
      "Cell \u001b[0;32mIn[5], line 2\u001b[0m\n\u001b[1;32m      1\u001b[0m x \u001b[38;5;241m=\u001b[39m (\u001b[38;5;241m2\u001b[39m, \u001b[38;5;241m3\u001b[39m, \u001b[38;5;241m4\u001b[39m, \u001b[38;5;241m6\u001b[39m)\n\u001b[0;32m----> 2\u001b[0m \u001b[43mx\u001b[49m\u001b[38;5;241;43m.\u001b[39;49m\u001b[43mappend\u001b[49m(\u001b[38;5;241m7\u001b[39m)                         \u001b[38;5;66;03m#Tuples are designed to be immutable, so methods like append(), extend(), \u001b[39;00m\n\u001b[1;32m      3\u001b[0m                                     \u001b[38;5;66;03m#and others that modify the collection are not available for tuples.\u001b[39;00m\n",
      "\u001b[0;31mAttributeError\u001b[0m: 'tuple' object has no attribute 'append'"
     ]
    }
   ],
   "source": [
    "x = (2, 3, 4, 6)\n",
    "x.append(7)                         #Tuples are designed to be immutable, so methods like append(), extend(), \n",
    "                                    #and others that modify the collection are not available for tuples."
   ]
  },
  {
   "cell_type": "code",
   "execution_count": 6,
   "id": "93932c96-8cd0-45e4-a6a5-3cb46d7cfd57",
   "metadata": {},
   "outputs": [
    {
     "name": "stdout",
     "output_type": "stream",
     "text": [
      "(2, 3, 4, 6, 7)\n"
     ]
    }
   ],
   "source": [
    "x = (2, 3, 4, 6)\n",
    "y = list(x)\n",
    "y.append(7)\n",
    "x = tuple(y)\n",
    "print(x)"
   ]
  },
  {
   "cell_type": "code",
   "execution_count": 7,
   "id": "8d9bfd61-bb92-461c-b9f1-a0edc7504fe5",
   "metadata": {},
   "outputs": [
    {
     "name": "stdout",
     "output_type": "stream",
     "text": [
      "[100 200 150 300 250 400 350]\n"
     ]
    }
   ],
   "source": [
    "#Q1) Given a list of sales figures for a week, [100, 200, 150, 300, 250, 400, 350] how can I convert it into a NumPy array.\n",
    "\n",
    "import numpy as np\n",
    "sales = [100, 200, 150, 300, 250, 400, 350]\n",
    "sales_array = np.array(sales)\n",
    "print(sales_array)"
   ]
  },
  {
   "cell_type": "code",
   "execution_count": 8,
   "id": "34a3aa78-6066-4001-8d50-ef3be8df6395",
   "metadata": {},
   "outputs": [
    {
     "name": "stdout",
     "output_type": "stream",
     "text": [
      "Added Prices: [11 22 33]\n",
      "Multiplied Prices: [10 40 90]\n"
     ]
    }
   ],
   "source": [
    "#Q2) If I have two arrays representing the prices of products in two different stores, [10, 20, 30] and [1,2,3], how can\n",
    "# I add and multiply these arrays element-wise?\n",
    "\n",
    "import numpy as np\n",
    "\n",
    "Store1_Prices = np.array([10, 20, 30])\n",
    "Store2_Prices = np.array([1, 2, 3])\n",
    "\n",
    "Added_Prices = Store1_Prices + Store2_Prices\n",
    "Multiplied_Prices = Store1_Prices * Store2_Prices\n",
    "\n",
    "print(\"Added Prices:\", Added_Prices)\n",
    "print(\"Multiplied Prices:\", Multiplied_Prices)"
   ]
  },
  {
   "cell_type": "code",
   "execution_count": 10,
   "id": "11bfdfde-d6aa-482f-9869-819a35fa5a23",
   "metadata": {},
   "outputs": [
    {
     "name": "stdout",
     "output_type": "stream",
     "text": [
      "Combined Sales Data: [300 600 500 600]\n"
     ]
    }
   ],
   "source": [
    "#Q3) How can I combine Sales data from two different months, sales_january = np.array([300,600]) and \n",
    "#    sales_february = np.array([500, 600])?\n",
    "\n",
    "import numpy as np\n",
    "\n",
    "sales_january = np.array([300, 600])\n",
    "sales_february = np.array([500, 600])\n",
    "\n",
    "combined_sales = np.concatenate((sales_january, sales_february))\n",
    "print(\"Combined Sales Data:\", combined_sales)"
   ]
  },
  {
   "cell_type": "code",
   "execution_count": 12,
   "id": "1416e58f-8b36-410a-afab-4f721c8bd8a3",
   "metadata": {},
   "outputs": [
    {
     "name": "stdout",
     "output_type": "stream",
     "text": [
      "Flattened Scores: [80 90 85 95]\n"
     ]
    }
   ],
   "source": [
    "#Q4) If I have an arrange score like scores = np.array([[80, 90], [85, 95]]), how can I convert it into a\n",
    "#    one-dimensional array?\n",
    "\n",
    "import numpy as np\n",
    "\n",
    "scores = np.array([[80, 90], [85, 95]])\n",
    "flattened_scores = scores.flatten()\n",
    "\n",
    "print(\"Flattened Scores:\", flattened_scores)"
   ]
  },
  {
   "cell_type": "code",
   "execution_count": 13,
   "id": "77b789ba-13c9-4609-8ce7-9ddf1120ae0e",
   "metadata": {},
   "outputs": [
    {
     "name": "stdout",
     "output_type": "stream",
     "text": [
      "[[1 2 3]\n",
      " [4 5 6]]\n"
     ]
    }
   ],
   "source": [
    "#Q5) If I have a 2D array representation data = np.array([1,2,3,4,5,6]), how can I reshape it into a 2*3 matrix?\n",
    "\n",
    "import numpy as np\n",
    "\n",
    "data = np.array([1, 2, 3, 4, 5, 6])\n",
    "reshaped_data = data.reshape(2, 3)\n",
    "\n",
    "print(reshaped_data)"
   ]
  },
  {
   "cell_type": "code",
   "execution_count": null,
   "id": "1040121c-ea8a-4f18-988c-dafb3db008c7",
   "metadata": {},
   "outputs": [],
   "source": []
  }
 ],
 "metadata": {
  "kernelspec": {
   "display_name": "Python 3 (ipykernel)",
   "language": "python",
   "name": "python3"
  },
  "language_info": {
   "codemirror_mode": {
    "name": "ipython",
    "version": 3
   },
   "file_extension": ".py",
   "mimetype": "text/x-python",
   "name": "python",
   "nbconvert_exporter": "python",
   "pygments_lexer": "ipython3",
   "version": "3.13.1"
  }
 },
 "nbformat": 4,
 "nbformat_minor": 5
}
